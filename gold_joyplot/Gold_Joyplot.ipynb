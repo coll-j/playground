{
  "nbformat": 4,
  "nbformat_minor": 0,
  "metadata": {
    "colab": {
      "name": "Gold Joyplot.ipynb",
      "provenance": []
    },
    "kernelspec": {
      "name": "python3",
      "display_name": "Python 3"
    },
    "language_info": {
      "name": "python"
    }
  },
  "cells": [
    {
      "cell_type": "markdown",
      "source": [
        "Find me on\n",
        "* GitHub: [coll-j](https://github.com/coll-j)\n",
        "* LinkedIn: https://www.linkedin.com/in/zkyazz/"
      ],
      "metadata": {
        "id": "edm-ZzxGc6XX"
      }
    },
    {
      "cell_type": "code",
      "source": [
        "!pip install joypy"
      ],
      "metadata": {
        "colab": {
          "base_uri": "https://localhost:8080/"
        },
        "id": "KOlu-789S9yo",
        "outputId": "0ab6c38f-4591-4270-b743-d2157750b2b4"
      },
      "execution_count": 5,
      "outputs": [
        {
          "output_type": "stream",
          "name": "stdout",
          "text": [
            "Looking in indexes: https://pypi.org/simple, https://us-python.pkg.dev/colab-wheels/public/simple/\n",
            "Collecting joypy\n",
            "  Downloading joypy-0.2.6-py2.py3-none-any.whl (8.6 kB)\n",
            "Requirement already satisfied: scipy>=0.11.0 in /usr/local/lib/python3.7/dist-packages (from joypy) (1.7.3)\n",
            "Requirement already satisfied: numpy>=1.16.5 in /usr/local/lib/python3.7/dist-packages (from joypy) (1.21.6)\n",
            "Requirement already satisfied: pandas>=0.20.0 in /usr/local/lib/python3.7/dist-packages (from joypy) (1.3.5)\n",
            "Requirement already satisfied: matplotlib in /usr/local/lib/python3.7/dist-packages (from joypy) (3.2.2)\n",
            "Requirement already satisfied: python-dateutil>=2.7.3 in /usr/local/lib/python3.7/dist-packages (from pandas>=0.20.0->joypy) (2.8.2)\n",
            "Requirement already satisfied: pytz>=2017.3 in /usr/local/lib/python3.7/dist-packages (from pandas>=0.20.0->joypy) (2022.1)\n",
            "Requirement already satisfied: six>=1.5 in /usr/local/lib/python3.7/dist-packages (from python-dateutil>=2.7.3->pandas>=0.20.0->joypy) (1.15.0)\n",
            "Requirement already satisfied: cycler>=0.10 in /usr/local/lib/python3.7/dist-packages (from matplotlib->joypy) (0.11.0)\n",
            "Requirement already satisfied: kiwisolver>=1.0.1 in /usr/local/lib/python3.7/dist-packages (from matplotlib->joypy) (1.4.4)\n",
            "Requirement already satisfied: pyparsing!=2.0.4,!=2.1.2,!=2.1.6,>=2.0.1 in /usr/local/lib/python3.7/dist-packages (from matplotlib->joypy) (3.0.9)\n",
            "Requirement already satisfied: typing-extensions in /usr/local/lib/python3.7/dist-packages (from kiwisolver>=1.0.1->matplotlib->joypy) (4.1.1)\n",
            "Installing collected packages: joypy\n",
            "Successfully installed joypy-0.2.6\n"
          ]
        }
      ]
    },
    {
      "cell_type": "code",
      "execution_count": 11,
      "metadata": {
        "id": "svdnqieTLaRa"
      },
      "outputs": [],
      "source": [
        "import numpy as np\n",
        "import pandas as pd\n",
        "import joypy\n",
        "import matplotlib.pyplot as plt\n",
        "from matplotlib import cm"
      ]
    },
    {
      "cell_type": "markdown",
      "source": [
        "## Data\n",
        "Source: https://id.investing.com/commodities/gold-historical-data\n",
        "\n",
        "Data is in USD per Troy Ounce.\n",
        "\n",
        "Columns\n",
        "1. Tanggal: Date of the gold price\n",
        "2. Terakhir: Last gold price on the day\n",
        "3. Pembukaan: Initial gold price on the day\n",
        "4. Tertinggi: Highest gold price on the day\n",
        "5. Terendah: Lowest gold price on the day\n",
        "6. Vol: N/A\n",
        "7. Perubahan: Change in percent from previous date\n",
        "\n",
        "## About\n",
        "Tahun is an additional column added to get the date's Year. In this work, Last gold price is used for the visualization. The median of gold price is used to avoid spikes in gold amount. **The goal is to compare** predicted 2022 gold price median to the current year's median."
      ],
      "metadata": {
        "id": "GQVW89Y_Q-by"
      }
    },
    {
      "cell_type": "code",
      "source": [
        "data = pd.read_csv(\"data.csv\")\n",
        "data = data.iloc[1:]\n",
        "data[\"Tahun\"] = data[\"Tanggal\"].apply(lambda tgl: tgl[-4:])\n",
        "data[\"Tahun\"] = pd.to_numeric(data[\"Tahun\"])\n",
        "data[\"Terakhir\"] = data[\"Terakhir\"].apply(\n",
        "    lambda last_price: last_price.replace(\".\", \"\").replace(\",\", \".\"))\n",
        "data[\"Terakhir\"] = pd.to_numeric(data[\"Terakhir\"])\n",
        "data.head()"
      ],
      "metadata": {
        "colab": {
          "base_uri": "https://localhost:8080/",
          "height": 206
        },
        "id": "su63E9oJPYLP",
        "outputId": "87a5aa15-37d7-4fa9-c47b-c5f3442d5884"
      },
      "execution_count": 15,
      "outputs": [
        {
          "output_type": "execute_result",
          "data": {
            "text/plain": [
              "       Tanggal  Terakhir Pembukaan Tertinggi  Terendah     Vol. Perubahan%  \\\n",
              "1  10 Agu 2022    1813.7  1.811,50  1.824,60  1.803,30  154,59K      0,08%   \n",
              "2  09 Agu 2022    1812.3  1.805,50  1.817,00  1.799,40  120,51K      0,39%   \n",
              "3  08 Agu 2022    1805.2  1.790,30  1.806,40  1.786,90  103,68K      0,78%   \n",
              "4  05 Agu 2022    1791.2  1.807,70  1.811,60  1.780,20  168,90K     -0,87%   \n",
              "5  04 Agu 2022    1806.9  1.782,10  1.812,00  1.779,40  153,29K      1,72%   \n",
              "\n",
              "   Tahun  \n",
              "1   2022  \n",
              "2   2022  \n",
              "3   2022  \n",
              "4   2022  \n",
              "5   2022  "
            ],
            "text/html": [
              "\n",
              "  <div id=\"df-c479693e-8148-4934-b65f-1a4737996b41\">\n",
              "    <div class=\"colab-df-container\">\n",
              "      <div>\n",
              "<style scoped>\n",
              "    .dataframe tbody tr th:only-of-type {\n",
              "        vertical-align: middle;\n",
              "    }\n",
              "\n",
              "    .dataframe tbody tr th {\n",
              "        vertical-align: top;\n",
              "    }\n",
              "\n",
              "    .dataframe thead th {\n",
              "        text-align: right;\n",
              "    }\n",
              "</style>\n",
              "<table border=\"1\" class=\"dataframe\">\n",
              "  <thead>\n",
              "    <tr style=\"text-align: right;\">\n",
              "      <th></th>\n",
              "      <th>Tanggal</th>\n",
              "      <th>Terakhir</th>\n",
              "      <th>Pembukaan</th>\n",
              "      <th>Tertinggi</th>\n",
              "      <th>Terendah</th>\n",
              "      <th>Vol.</th>\n",
              "      <th>Perubahan%</th>\n",
              "      <th>Tahun</th>\n",
              "    </tr>\n",
              "  </thead>\n",
              "  <tbody>\n",
              "    <tr>\n",
              "      <th>1</th>\n",
              "      <td>10 Agu 2022</td>\n",
              "      <td>1813.7</td>\n",
              "      <td>1.811,50</td>\n",
              "      <td>1.824,60</td>\n",
              "      <td>1.803,30</td>\n",
              "      <td>154,59K</td>\n",
              "      <td>0,08%</td>\n",
              "      <td>2022</td>\n",
              "    </tr>\n",
              "    <tr>\n",
              "      <th>2</th>\n",
              "      <td>09 Agu 2022</td>\n",
              "      <td>1812.3</td>\n",
              "      <td>1.805,50</td>\n",
              "      <td>1.817,00</td>\n",
              "      <td>1.799,40</td>\n",
              "      <td>120,51K</td>\n",
              "      <td>0,39%</td>\n",
              "      <td>2022</td>\n",
              "    </tr>\n",
              "    <tr>\n",
              "      <th>3</th>\n",
              "      <td>08 Agu 2022</td>\n",
              "      <td>1805.2</td>\n",
              "      <td>1.790,30</td>\n",
              "      <td>1.806,40</td>\n",
              "      <td>1.786,90</td>\n",
              "      <td>103,68K</td>\n",
              "      <td>0,78%</td>\n",
              "      <td>2022</td>\n",
              "    </tr>\n",
              "    <tr>\n",
              "      <th>4</th>\n",
              "      <td>05 Agu 2022</td>\n",
              "      <td>1791.2</td>\n",
              "      <td>1.807,70</td>\n",
              "      <td>1.811,60</td>\n",
              "      <td>1.780,20</td>\n",
              "      <td>168,90K</td>\n",
              "      <td>-0,87%</td>\n",
              "      <td>2022</td>\n",
              "    </tr>\n",
              "    <tr>\n",
              "      <th>5</th>\n",
              "      <td>04 Agu 2022</td>\n",
              "      <td>1806.9</td>\n",
              "      <td>1.782,10</td>\n",
              "      <td>1.812,00</td>\n",
              "      <td>1.779,40</td>\n",
              "      <td>153,29K</td>\n",
              "      <td>1,72%</td>\n",
              "      <td>2022</td>\n",
              "    </tr>\n",
              "  </tbody>\n",
              "</table>\n",
              "</div>\n",
              "      <button class=\"colab-df-convert\" onclick=\"convertToInteractive('df-c479693e-8148-4934-b65f-1a4737996b41')\"\n",
              "              title=\"Convert this dataframe to an interactive table.\"\n",
              "              style=\"display:none;\">\n",
              "        \n",
              "  <svg xmlns=\"http://www.w3.org/2000/svg\" height=\"24px\"viewBox=\"0 0 24 24\"\n",
              "       width=\"24px\">\n",
              "    <path d=\"M0 0h24v24H0V0z\" fill=\"none\"/>\n",
              "    <path d=\"M18.56 5.44l.94 2.06.94-2.06 2.06-.94-2.06-.94-.94-2.06-.94 2.06-2.06.94zm-11 1L8.5 8.5l.94-2.06 2.06-.94-2.06-.94L8.5 2.5l-.94 2.06-2.06.94zm10 10l.94 2.06.94-2.06 2.06-.94-2.06-.94-.94-2.06-.94 2.06-2.06.94z\"/><path d=\"M17.41 7.96l-1.37-1.37c-.4-.4-.92-.59-1.43-.59-.52 0-1.04.2-1.43.59L10.3 9.45l-7.72 7.72c-.78.78-.78 2.05 0 2.83L4 21.41c.39.39.9.59 1.41.59.51 0 1.02-.2 1.41-.59l7.78-7.78 2.81-2.81c.8-.78.8-2.07 0-2.86zM5.41 20L4 18.59l7.72-7.72 1.47 1.35L5.41 20z\"/>\n",
              "  </svg>\n",
              "      </button>\n",
              "      \n",
              "  <style>\n",
              "    .colab-df-container {\n",
              "      display:flex;\n",
              "      flex-wrap:wrap;\n",
              "      gap: 12px;\n",
              "    }\n",
              "\n",
              "    .colab-df-convert {\n",
              "      background-color: #E8F0FE;\n",
              "      border: none;\n",
              "      border-radius: 50%;\n",
              "      cursor: pointer;\n",
              "      display: none;\n",
              "      fill: #1967D2;\n",
              "      height: 32px;\n",
              "      padding: 0 0 0 0;\n",
              "      width: 32px;\n",
              "    }\n",
              "\n",
              "    .colab-df-convert:hover {\n",
              "      background-color: #E2EBFA;\n",
              "      box-shadow: 0px 1px 2px rgba(60, 64, 67, 0.3), 0px 1px 3px 1px rgba(60, 64, 67, 0.15);\n",
              "      fill: #174EA6;\n",
              "    }\n",
              "\n",
              "    [theme=dark] .colab-df-convert {\n",
              "      background-color: #3B4455;\n",
              "      fill: #D2E3FC;\n",
              "    }\n",
              "\n",
              "    [theme=dark] .colab-df-convert:hover {\n",
              "      background-color: #434B5C;\n",
              "      box-shadow: 0px 1px 3px 1px rgba(0, 0, 0, 0.15);\n",
              "      filter: drop-shadow(0px 1px 2px rgba(0, 0, 0, 0.3));\n",
              "      fill: #FFFFFF;\n",
              "    }\n",
              "  </style>\n",
              "\n",
              "      <script>\n",
              "        const buttonEl =\n",
              "          document.querySelector('#df-c479693e-8148-4934-b65f-1a4737996b41 button.colab-df-convert');\n",
              "        buttonEl.style.display =\n",
              "          google.colab.kernel.accessAllowed ? 'block' : 'none';\n",
              "\n",
              "        async function convertToInteractive(key) {\n",
              "          const element = document.querySelector('#df-c479693e-8148-4934-b65f-1a4737996b41');\n",
              "          const dataTable =\n",
              "            await google.colab.kernel.invokeFunction('convertToInteractive',\n",
              "                                                     [key], {});\n",
              "          if (!dataTable) return;\n",
              "\n",
              "          const docLinkHtml = 'Like what you see? Visit the ' +\n",
              "            '<a target=\"_blank\" href=https://colab.research.google.com/notebooks/data_table.ipynb>data table notebook</a>'\n",
              "            + ' to learn more about interactive tables.';\n",
              "          element.innerHTML = '';\n",
              "          dataTable['output_type'] = 'display_data';\n",
              "          await google.colab.output.renderOutput(dataTable, element);\n",
              "          const docLink = document.createElement('div');\n",
              "          docLink.innerHTML = docLinkHtml;\n",
              "          element.appendChild(docLink);\n",
              "        }\n",
              "      </script>\n",
              "    </div>\n",
              "  </div>\n",
              "  "
            ]
          },
          "metadata": {},
          "execution_count": 15
        }
      ]
    },
    {
      "cell_type": "code",
      "source": [
        "data.info()"
      ],
      "metadata": {
        "colab": {
          "base_uri": "https://localhost:8080/"
        },
        "id": "AKdoIZzdVKPd",
        "outputId": "b0b5ba91-df3e-469e-a5c2-02248ae18044"
      },
      "execution_count": 16,
      "outputs": [
        {
          "output_type": "stream",
          "name": "stdout",
          "text": [
            "<class 'pandas.core.frame.DataFrame'>\n",
            "RangeIndex: 2923 entries, 1 to 2923\n",
            "Data columns (total 8 columns):\n",
            " #   Column      Non-Null Count  Dtype  \n",
            "---  ------      --------------  -----  \n",
            " 0   Tanggal     2923 non-null   object \n",
            " 1   Terakhir    2923 non-null   float64\n",
            " 2   Pembukaan   2923 non-null   object \n",
            " 3   Tertinggi   2923 non-null   object \n",
            " 4   Terendah    2923 non-null   object \n",
            " 5   Vol.        2923 non-null   object \n",
            " 6   Perubahan%  2923 non-null   object \n",
            " 7   Tahun       2923 non-null   int64  \n",
            "dtypes: float64(1), int64(1), object(6)\n",
            "memory usage: 182.8+ KB\n"
          ]
        }
      ]
    },
    {
      "cell_type": "code",
      "source": [
        "labels = data[\"Tahun\"].unique()\n",
        "fig, axes = joypy.joyplot(\n",
        "    data, \n",
        "    by=\"Tahun\", \n",
        "    column=\"Terakhir\", \n",
        "    colormap=cm.autumn_r,\n",
        "    title=\"Gold Price Distribution in USD per Troy Ounce by Year\",\n",
        "    figsize=(8, 12))\n",
        "\n",
        "for idx, ax in enumerate(axes):\n",
        "  year = idx + 2011\n",
        "  median = data[data[\"Tahun\"] == year][\"Terakhir\"].median()\n",
        "  std = data[data[\"Tahun\"] == year][\"Terakhir\"].std()\n",
        "  \n",
        "  ax.axvline(median, ymin= 0.1, ymax=0.5, linestyle=\"--\", zorder=100)\n",
        "  ax.annotate(f\"{median:.2f} \\u00B1 {std:.2f}\", xy=(median, 0), xytext=(median, 0.0055), zorder=100)"
      ],
      "metadata": {
        "colab": {
          "base_uri": "https://localhost:8080/",
          "height": 873
        },
        "id": "L9iSRK5dTZcW",
        "outputId": "e82a5db0-1e69-4fc4-e08c-dc4db7babd27"
      },
      "execution_count": 73,
      "outputs": [
        {
          "output_type": "display_data",
          "data": {
            "text/plain": [
              "<Figure size 576x864 with 13 Axes>"
            ],
            "image/png": "[encoded data removed]"
          },
          "metadata": {
            "needs_background": "light"
          }
        }
      ]
    },
    {
      "cell_type": "code",
      "source": [
        "axes[0].axvline(2000)"
      ],
      "metadata": {
        "colab": {
          "base_uri": "https://localhost:8080/"
        },
        "id": "iu4_Q6cRVH7y",
        "outputId": "37691580-d11e-406b-a629-f137849b5f62"
      },
      "execution_count": 25,
      "outputs": [
        {
          "output_type": "execute_result",
          "data": {
            "text/plain": [
              "<matplotlib.lines.Line2D at 0x7ff355190790>"
            ]
          },
          "metadata": {},
          "execution_count": 25
        }
      ]
    },
    {
      "cell_type": "code",
      "source": [
        "data_19xx = pd.read_csv(\"from_19xx.csv\")\n",
        "data_19xx = data_19xx.iloc[1:]\n",
        "data_19xx[\"Tahun\"] = data_19xx[\"Tanggal\"].apply(lambda tgl: tgl[-4:])\n",
        "data_19xx[\"Tahun\"] = pd.to_numeric(data_19xx[\"Tahun\"])\n",
        "data_19xx[\"Terakhir\"] = data_19xx[\"Terakhir\"].apply(\n",
        "    lambda last_price: last_price.replace(\".\", \"\").replace(\",\", \".\"))\n",
        "data_19xx[\"Terakhir\"] = pd.to_numeric(data_19xx[\"Terakhir\"])\n",
        "data_19xx.head()"
      ],
      "metadata": {
        "colab": {
          "base_uri": "https://localhost:8080/",
          "height": 206
        },
        "id": "0ZZS0uCwXkOx",
        "outputId": "2044d59b-cf19-4a59-afa9-85ccfa4f9ca7"
      },
      "execution_count": 39,
      "outputs": [
        {
          "output_type": "execute_result",
          "data": {
            "text/plain": [
              "       Tanggal  Terakhir Pembukaan Tertinggi Terendah    Vol. Perubahan%  \\\n",
              "1  04 Nov 1994     384.7    384,80    385,30   383,50  14,40K      0,08%   \n",
              "2  03 Nov 1994     384.4    385,00    385,40   384,20  17,75K     -0,29%   \n",
              "3  02 Nov 1994     385.5    384,70    385,70   384,20   9,68K     -0,05%   \n",
              "4  01 Nov 1994     385.7    384,70    386,50   384,30  19,06K      0,21%   \n",
              "5  31 Okt 1994     384.9    388,30    388,70   383,70  23,76K     -0,98%   \n",
              "\n",
              "   Tahun  \n",
              "1   1994  \n",
              "2   1994  \n",
              "3   1994  \n",
              "4   1994  \n",
              "5   1994  "
            ],
            "text/html": [
              "\n",
              "  <div id=\"df-e8761a6c-2306-414a-97c8-1a2880061875\">\n",
              "    <div class=\"colab-df-container\">\n",
              "      <div>\n",
              "<style scoped>\n",
              "    .dataframe tbody tr th:only-of-type {\n",
              "        vertical-align: middle;\n",
              "    }\n",
              "\n",
              "    .dataframe tbody tr th {\n",
              "        vertical-align: top;\n",
              "    }\n",
              "\n",
              "    .dataframe thead th {\n",
              "        text-align: right;\n",
              "    }\n",
              "</style>\n",
              "<table border=\"1\" class=\"dataframe\">\n",
              "  <thead>\n",
              "    <tr style=\"text-align: right;\">\n",
              "      <th></th>\n",
              "      <th>Tanggal</th>\n",
              "      <th>Terakhir</th>\n",
              "      <th>Pembukaan</th>\n",
              "      <th>Tertinggi</th>\n",
              "      <th>Terendah</th>\n",
              "      <th>Vol.</th>\n",
              "      <th>Perubahan%</th>\n",
              "      <th>Tahun</th>\n",
              "    </tr>\n",
              "  </thead>\n",
              "  <tbody>\n",
              "    <tr>\n",
              "      <th>1</th>\n",
              "      <td>04 Nov 1994</td>\n",
              "      <td>384.7</td>\n",
              "      <td>384,80</td>\n",
              "      <td>385,30</td>\n",
              "      <td>383,50</td>\n",
              "      <td>14,40K</td>\n",
              "      <td>0,08%</td>\n",
              "      <td>1994</td>\n",
              "    </tr>\n",
              "    <tr>\n",
              "      <th>2</th>\n",
              "      <td>03 Nov 1994</td>\n",
              "      <td>384.4</td>\n",
              "      <td>385,00</td>\n",
              "      <td>385,40</td>\n",
              "      <td>384,20</td>\n",
              "      <td>17,75K</td>\n",
              "      <td>-0,29%</td>\n",
              "      <td>1994</td>\n",
              "    </tr>\n",
              "    <tr>\n",
              "      <th>3</th>\n",
              "      <td>02 Nov 1994</td>\n",
              "      <td>385.5</td>\n",
              "      <td>384,70</td>\n",
              "      <td>385,70</td>\n",
              "      <td>384,20</td>\n",
              "      <td>9,68K</td>\n",
              "      <td>-0,05%</td>\n",
              "      <td>1994</td>\n",
              "    </tr>\n",
              "    <tr>\n",
              "      <th>4</th>\n",
              "      <td>01 Nov 1994</td>\n",
              "      <td>385.7</td>\n",
              "      <td>384,70</td>\n",
              "      <td>386,50</td>\n",
              "      <td>384,30</td>\n",
              "      <td>19,06K</td>\n",
              "      <td>0,21%</td>\n",
              "      <td>1994</td>\n",
              "    </tr>\n",
              "    <tr>\n",
              "      <th>5</th>\n",
              "      <td>31 Okt 1994</td>\n",
              "      <td>384.9</td>\n",
              "      <td>388,30</td>\n",
              "      <td>388,70</td>\n",
              "      <td>383,70</td>\n",
              "      <td>23,76K</td>\n",
              "      <td>-0,98%</td>\n",
              "      <td>1994</td>\n",
              "    </tr>\n",
              "  </tbody>\n",
              "</table>\n",
              "</div>\n",
              "      <button class=\"colab-df-convert\" onclick=\"convertToInteractive('df-e8761a6c-2306-414a-97c8-1a2880061875')\"\n",
              "              title=\"Convert this dataframe to an interactive table.\"\n",
              "              style=\"display:none;\">\n",
              "        \n",
              "  <svg xmlns=\"http://www.w3.org/2000/svg\" height=\"24px\"viewBox=\"0 0 24 24\"\n",
              "       width=\"24px\">\n",
              "    <path d=\"M0 0h24v24H0V0z\" fill=\"none\"/>\n",
              "    <path d=\"M18.56 5.44l.94 2.06.94-2.06 2.06-.94-2.06-.94-.94-2.06-.94 2.06-2.06.94zm-11 1L8.5 8.5l.94-2.06 2.06-.94-2.06-.94L8.5 2.5l-.94 2.06-2.06.94zm10 10l.94 2.06.94-2.06 2.06-.94-2.06-.94-.94-2.06-.94 2.06-2.06.94z\"/><path d=\"M17.41 7.96l-1.37-1.37c-.4-.4-.92-.59-1.43-.59-.52 0-1.04.2-1.43.59L10.3 9.45l-7.72 7.72c-.78.78-.78 2.05 0 2.83L4 21.41c.39.39.9.59 1.41.59.51 0 1.02-.2 1.41-.59l7.78-7.78 2.81-2.81c.8-.78.8-2.07 0-2.86zM5.41 20L4 18.59l7.72-7.72 1.47 1.35L5.41 20z\"/>\n",
              "  </svg>\n",
              "      </button>\n",
              "      \n",
              "  <style>\n",
              "    .colab-df-container {\n",
              "      display:flex;\n",
              "      flex-wrap:wrap;\n",
              "      gap: 12px;\n",
              "    }\n",
              "\n",
              "    .colab-df-convert {\n",
              "      background-color: #E8F0FE;\n",
              "      border: none;\n",
              "      border-radius: 50%;\n",
              "      cursor: pointer;\n",
              "      display: none;\n",
              "      fill: #1967D2;\n",
              "      height: 32px;\n",
              "      padding: 0 0 0 0;\n",
              "      width: 32px;\n",
              "    }\n",
              "\n",
              "    .colab-df-convert:hover {\n",
              "      background-color: #E2EBFA;\n",
              "      box-shadow: 0px 1px 2px rgba(60, 64, 67, 0.3), 0px 1px 3px 1px rgba(60, 64, 67, 0.15);\n",
              "      fill: #174EA6;\n",
              "    }\n",
              "\n",
              "    [theme=dark] .colab-df-convert {\n",
              "      background-color: #3B4455;\n",
              "      fill: #D2E3FC;\n",
              "    }\n",
              "\n",
              "    [theme=dark] .colab-df-convert:hover {\n",
              "      background-color: #434B5C;\n",
              "      box-shadow: 0px 1px 3px 1px rgba(0, 0, 0, 0.15);\n",
              "      filter: drop-shadow(0px 1px 2px rgba(0, 0, 0, 0.3));\n",
              "      fill: #FFFFFF;\n",
              "    }\n",
              "  </style>\n",
              "\n",
              "      <script>\n",
              "        const buttonEl =\n",
              "          document.querySelector('#df-e8761a6c-2306-414a-97c8-1a2880061875 button.colab-df-convert');\n",
              "        buttonEl.style.display =\n",
              "          google.colab.kernel.accessAllowed ? 'block' : 'none';\n",
              "\n",
              "        async function convertToInteractive(key) {\n",
              "          const element = document.querySelector('#df-e8761a6c-2306-414a-97c8-1a2880061875');\n",
              "          const dataTable =\n",
              "            await google.colab.kernel.invokeFunction('convertToInteractive',\n",
              "                                                     [key], {});\n",
              "          if (!dataTable) return;\n",
              "\n",
              "          const docLinkHtml = 'Like what you see? Visit the ' +\n",
              "            '<a target=\"_blank\" href=https://colab.research.google.com/notebooks/data_table.ipynb>data table notebook</a>'\n",
              "            + ' to learn more about interactive tables.';\n",
              "          element.innerHTML = '';\n",
              "          dataTable['output_type'] = 'display_data';\n",
              "          await google.colab.output.renderOutput(dataTable, element);\n",
              "          const docLink = document.createElement('div');\n",
              "          docLink.innerHTML = docLinkHtml;\n",
              "          element.appendChild(docLink);\n",
              "        }\n",
              "      </script>\n",
              "    </div>\n",
              "  </div>\n",
              "  "
            ]
          },
          "metadata": {},
          "execution_count": 39
        }
      ]
    },
    {
      "cell_type": "code",
      "source": [
        "data_19xx[\"Tahun\"].unique()"
      ],
      "metadata": {
        "colab": {
          "base_uri": "https://localhost:8080/"
        },
        "id": "as5Bd55_csR2",
        "outputId": "8d823640-2921-49f7-becb-cb1046f23d94"
      },
      "execution_count": 40,
      "outputs": [
        {
          "output_type": "execute_result",
          "data": {
            "text/plain": [
              "array([1994, 1993, 1992, 1991, 1990, 1989, 1988, 1987, 1986, 1985, 1984,\n",
              "       1983, 1982, 1981, 1980, 1979, 1978, 1977, 1976, 1975])"
            ]
          },
          "metadata": {},
          "execution_count": 40
        }
      ]
    },
    {
      "cell_type": "code",
      "source": [
        "data_19xx.iloc[-1]"
      ],
      "metadata": {
        "colab": {
          "base_uri": "https://localhost:8080/"
        },
        "id": "uBWi-JWRcwE7",
        "outputId": "613f74bd-65dc-4d3e-f1c9-9a32a457f9b8"
      },
      "execution_count": 41,
      "outputs": [
        {
          "output_type": "execute_result",
          "data": {
            "text/plain": [
              "Tanggal       03 Jan 1975\n",
              "Terakhir            174.7\n",
              "Pembukaan          173,00\n",
              "Tertinggi          175,50\n",
              "Terendah           170,50\n",
              "Vol.                  NaN\n",
              "Perubahan%         -0,23%\n",
              "Tahun                1975\n",
              "Name: 4998, dtype: object"
            ]
          },
          "metadata": {},
          "execution_count": 41
        }
      ]
    },
    {
      "cell_type": "code",
      "source": [
        "def read_data(fn):\n",
        "  data = pd.read_csv(fn)\n",
        "  data[\"Tahun\"] = data[\"Tanggal\"].apply(lambda tgl: tgl[-4:])\n",
        "  data[\"Tahun\"] = pd.to_numeric(data[\"Tahun\"])\n",
        "  data[\"Terakhir\"] = data[\"Terakhir\"].apply(\n",
        "      lambda last_price: last_price.replace(\".\", \"\").replace(\",\", \".\"))\n",
        "  data[\"Terakhir\"] = pd.to_numeric(data[\"Terakhir\"])\n",
        "\n",
        "  return data"
      ],
      "metadata": {
        "id": "aiTPSwvwdp_7"
      },
      "execution_count": 74,
      "outputs": []
    },
    {
      "cell_type": "code",
      "source": [
        "all_data = pd.DataFrame()\n",
        "for i in range(1, 4):\n",
        "  all_data = pd.concat([all_data, read_data(f\"{i}.csv\")])\n",
        "\n",
        "all_data.head()"
      ],
      "metadata": {
        "colab": {
          "base_uri": "https://localhost:8080/",
          "height": 206
        },
        "id": "cvh-atxxuDB0",
        "outputId": "ffad6d86-2d65-4349-e271-0da3eca4d5d0"
      },
      "execution_count": 75,
      "outputs": [
        {
          "output_type": "execute_result",
          "data": {
            "text/plain": [
              "       Tanggal  Terakhir Pembukaan Tertinggi Terendah    Vol. Perubahan%  \\\n",
              "0  07 Nov 1994     383.3    383,80    384,20   383,10  25,39K     -0,36%   \n",
              "1  04 Nov 1994     384.7    384,80    385,30   383,50  14,40K      0,08%   \n",
              "2  03 Nov 1994     384.4    385,00    385,40   384,20  17,75K     -0,29%   \n",
              "3  02 Nov 1994     385.5    384,70    385,70   384,20   9,68K     -0,05%   \n",
              "4  01 Nov 1994     385.7    384,70    386,50   384,30  19,06K      0,21%   \n",
              "\n",
              "   Tahun  \n",
              "0   1994  \n",
              "1   1994  \n",
              "2   1994  \n",
              "3   1994  \n",
              "4   1994  "
            ],
            "text/html": [
              "\n",
              "  <div id=\"df-06873734-fbde-4ec5-85f8-167431ee0628\">\n",
              "    <div class=\"colab-df-container\">\n",
              "      <div>\n",
              "<style scoped>\n",
              "    .dataframe tbody tr th:only-of-type {\n",
              "        vertical-align: middle;\n",
              "    }\n",
              "\n",
              "    .dataframe tbody tr th {\n",
              "        vertical-align: top;\n",
              "    }\n",
              "\n",
              "    .dataframe thead th {\n",
              "        text-align: right;\n",
              "    }\n",
              "</style>\n",
              "<table border=\"1\" class=\"dataframe\">\n",
              "  <thead>\n",
              "    <tr style=\"text-align: right;\">\n",
              "      <th></th>\n",
              "      <th>Tanggal</th>\n",
              "      <th>Terakhir</th>\n",
              "      <th>Pembukaan</th>\n",
              "      <th>Tertinggi</th>\n",
              "      <th>Terendah</th>\n",
              "      <th>Vol.</th>\n",
              "      <th>Perubahan%</th>\n",
              "      <th>Tahun</th>\n",
              "    </tr>\n",
              "  </thead>\n",
              "  <tbody>\n",
              "    <tr>\n",
              "      <th>0</th>\n",
              "      <td>07 Nov 1994</td>\n",
              "      <td>383.3</td>\n",
              "      <td>383,80</td>\n",
              "      <td>384,20</td>\n",
              "      <td>383,10</td>\n",
              "      <td>25,39K</td>\n",
              "      <td>-0,36%</td>\n",
              "      <td>1994</td>\n",
              "    </tr>\n",
              "    <tr>\n",
              "      <th>1</th>\n",
              "      <td>04 Nov 1994</td>\n",
              "      <td>384.7</td>\n",
              "      <td>384,80</td>\n",
              "      <td>385,30</td>\n",
              "      <td>383,50</td>\n",
              "      <td>14,40K</td>\n",
              "      <td>0,08%</td>\n",
              "      <td>1994</td>\n",
              "    </tr>\n",
              "    <tr>\n",
              "      <th>2</th>\n",
              "      <td>03 Nov 1994</td>\n",
              "      <td>384.4</td>\n",
              "      <td>385,00</td>\n",
              "      <td>385,40</td>\n",
              "      <td>384,20</td>\n",
              "      <td>17,75K</td>\n",
              "      <td>-0,29%</td>\n",
              "      <td>1994</td>\n",
              "    </tr>\n",
              "    <tr>\n",
              "      <th>3</th>\n",
              "      <td>02 Nov 1994</td>\n",
              "      <td>385.5</td>\n",
              "      <td>384,70</td>\n",
              "      <td>385,70</td>\n",
              "      <td>384,20</td>\n",
              "      <td>9,68K</td>\n",
              "      <td>-0,05%</td>\n",
              "      <td>1994</td>\n",
              "    </tr>\n",
              "    <tr>\n",
              "      <th>4</th>\n",
              "      <td>01 Nov 1994</td>\n",
              "      <td>385.7</td>\n",
              "      <td>384,70</td>\n",
              "      <td>386,50</td>\n",
              "      <td>384,30</td>\n",
              "      <td>19,06K</td>\n",
              "      <td>0,21%</td>\n",
              "      <td>1994</td>\n",
              "    </tr>\n",
              "  </tbody>\n",
              "</table>\n",
              "</div>\n",
              "      <button class=\"colab-df-convert\" onclick=\"convertToInteractive('df-06873734-fbde-4ec5-85f8-167431ee0628')\"\n",
              "              title=\"Convert this dataframe to an interactive table.\"\n",
              "              style=\"display:none;\">\n",
              "        \n",
              "  <svg xmlns=\"http://www.w3.org/2000/svg\" height=\"24px\"viewBox=\"0 0 24 24\"\n",
              "       width=\"24px\">\n",
              "    <path d=\"M0 0h24v24H0V0z\" fill=\"none\"/>\n",
              "    <path d=\"M18.56 5.44l.94 2.06.94-2.06 2.06-.94-2.06-.94-.94-2.06-.94 2.06-2.06.94zm-11 1L8.5 8.5l.94-2.06 2.06-.94-2.06-.94L8.5 2.5l-.94 2.06-2.06.94zm10 10l.94 2.06.94-2.06 2.06-.94-2.06-.94-.94-2.06-.94 2.06-2.06.94z\"/><path d=\"M17.41 7.96l-1.37-1.37c-.4-.4-.92-.59-1.43-.59-.52 0-1.04.2-1.43.59L10.3 9.45l-7.72 7.72c-.78.78-.78 2.05 0 2.83L4 21.41c.39.39.9.59 1.41.59.51 0 1.02-.2 1.41-.59l7.78-7.78 2.81-2.81c.8-.78.8-2.07 0-2.86zM5.41 20L4 18.59l7.72-7.72 1.47 1.35L5.41 20z\"/>\n",
              "  </svg>\n",
              "      </button>\n",
              "      \n",
              "  <style>\n",
              "    .colab-df-container {\n",
              "      display:flex;\n",
              "      flex-wrap:wrap;\n",
              "      gap: 12px;\n",
              "    }\n",
              "\n",
              "    .colab-df-convert {\n",
              "      background-color: #E8F0FE;\n",
              "      border: none;\n",
              "      border-radius: 50%;\n",
              "      cursor: pointer;\n",
              "      display: none;\n",
              "      fill: #1967D2;\n",
              "      height: 32px;\n",
              "      padding: 0 0 0 0;\n",
              "      width: 32px;\n",
              "    }\n",
              "\n",
              "    .colab-df-convert:hover {\n",
              "      background-color: #E2EBFA;\n",
              "      box-shadow: 0px 1px 2px rgba(60, 64, 67, 0.3), 0px 1px 3px 1px rgba(60, 64, 67, 0.15);\n",
              "      fill: #174EA6;\n",
              "    }\n",
              "\n",
              "    [theme=dark] .colab-df-convert {\n",
              "      background-color: #3B4455;\n",
              "      fill: #D2E3FC;\n",
              "    }\n",
              "\n",
              "    [theme=dark] .colab-df-convert:hover {\n",
              "      background-color: #434B5C;\n",
              "      box-shadow: 0px 1px 3px 1px rgba(0, 0, 0, 0.15);\n",
              "      filter: drop-shadow(0px 1px 2px rgba(0, 0, 0, 0.3));\n",
              "      fill: #FFFFFF;\n",
              "    }\n",
              "  </style>\n",
              "\n",
              "      <script>\n",
              "        const buttonEl =\n",
              "          document.querySelector('#df-06873734-fbde-4ec5-85f8-167431ee0628 button.colab-df-convert');\n",
              "        buttonEl.style.display =\n",
              "          google.colab.kernel.accessAllowed ? 'block' : 'none';\n",
              "\n",
              "        async function convertToInteractive(key) {\n",
              "          const element = document.querySelector('#df-06873734-fbde-4ec5-85f8-167431ee0628');\n",
              "          const dataTable =\n",
              "            await google.colab.kernel.invokeFunction('convertToInteractive',\n",
              "                                                     [key], {});\n",
              "          if (!dataTable) return;\n",
              "\n",
              "          const docLinkHtml = 'Like what you see? Visit the ' +\n",
              "            '<a target=\"_blank\" href=https://colab.research.google.com/notebooks/data_table.ipynb>data table notebook</a>'\n",
              "            + ' to learn more about interactive tables.';\n",
              "          element.innerHTML = '';\n",
              "          dataTable['output_type'] = 'display_data';\n",
              "          await google.colab.output.renderOutput(dataTable, element);\n",
              "          const docLink = document.createElement('div');\n",
              "          docLink.innerHTML = docLinkHtml;\n",
              "          element.appendChild(docLink);\n",
              "        }\n",
              "      </script>\n",
              "    </div>\n",
              "  </div>\n",
              "  "
            ]
          },
          "metadata": {},
          "execution_count": 75
        }
      ]
    },
    {
      "cell_type": "code",
      "source": [
        "year_data = all_data.groupby(by=\"Tahun\").agg({\"Terakhir\": [np.median, np.std]})\n",
        "year_data.columns = [\"median\", \"std\"]\n",
        "year_data"
      ],
      "metadata": {
        "colab": {
          "base_uri": "https://localhost:8080/",
          "height": 1000
        },
        "id": "3e7-X3ZKumLz",
        "outputId": "35200224-a252-46d6-d85d-e8cdb3f6d574"
      },
      "execution_count": 87,
      "outputs": [
        {
          "output_type": "execute_result",
          "data": {
            "text/plain": [
              "        median         std\n",
              "Tahun                     \n",
              "1975    166.30   14.743355\n",
              "1976    128.05    8.757614\n",
              "1977    148.20    9.474147\n",
              "1978    187.40   19.167896\n",
              "1979    285.40   75.643684\n",
              "1980    635.00   67.444732\n",
              "1981    464.50   47.113728\n",
              "1982    372.00   46.253542\n",
              "1983    424.40   33.079966\n",
              "1984    366.80   23.232601\n",
              "1985    324.00   12.669928\n",
              "1986    352.05   32.806745\n",
              "1987    459.20   27.580026\n",
              "1988    442.35   19.567528\n",
              "1989    382.50   15.309143\n",
              "1990    384.50   19.623975\n",
              "1991    363.50    9.002847\n",
              "1992    343.75    7.808053\n",
              "1993    368.00   22.476101\n",
              "1994    385.80    5.466964\n",
              "1995    386.70    4.631135\n",
              "1996    391.35    9.774628\n",
              "1997    336.00   19.380099\n",
              "1998    295.10    6.910876\n",
              "1999    284.10   16.924749\n",
              "2000    279.60    9.592689\n",
              "2001    270.70    8.734818\n",
              "2002    313.75   14.661109\n",
              "2003    362.70   22.321281\n",
              "2004    407.10   18.505179\n",
              "2005    437.60   27.711265\n",
              "2006    616.00   39.826181\n",
              "2007    677.10   59.312575\n",
              "2008    886.30   67.829659\n",
              "2009    949.00   85.286473\n",
              "2010   1214.80   98.899052\n",
              "2011   1545.20  148.272642\n",
              "2012   1664.35   63.885426\n",
              "2013   1370.90  146.840659\n",
              "2014   1274.05   50.735568\n",
              "2015   1166.15   57.332645\n",
              "2016   1258.10   73.475536\n",
              "2017   1264.20   35.235944\n",
              "2018   1268.40   52.904435\n",
              "2019   1412.00   94.796302\n",
              "2020   1788.10  141.273217\n",
              "2021   1794.30   49.367733\n",
              "2022   1843.20   73.783310"
            ],
            "text/html": [
              "\n",
              "  <div id=\"df-e3094098-432e-4004-800d-2100a5b8f325\">\n",
              "    <div class=\"colab-df-container\">\n",
              "      <div>\n",
              "<style scoped>\n",
              "    .dataframe tbody tr th:only-of-type {\n",
              "        vertical-align: middle;\n",
              "    }\n",
              "\n",
              "    .dataframe tbody tr th {\n",
              "        vertical-align: top;\n",
              "    }\n",
              "\n",
              "    .dataframe thead th {\n",
              "        text-align: right;\n",
              "    }\n",
              "</style>\n",
              "<table border=\"1\" class=\"dataframe\">\n",
              "  <thead>\n",
              "    <tr style=\"text-align: right;\">\n",
              "      <th></th>\n",
              "      <th>median</th>\n",
              "      <th>std</th>\n",
              "    </tr>\n",
              "    <tr>\n",
              "      <th>Tahun</th>\n",
              "      <th></th>\n",
              "      <th></th>\n",
              "    </tr>\n",
              "  </thead>\n",
              "  <tbody>\n",
              "    <tr>\n",
              "      <th>1975</th>\n",
              "      <td>166.30</td>\n",
              "      <td>14.743355</td>\n",
              "    </tr>\n",
              "    <tr>\n",
              "      <th>1976</th>\n",
              "      <td>128.05</td>\n",
              "      <td>8.757614</td>\n",
              "    </tr>\n",
              "    <tr>\n",
              "      <th>1977</th>\n",
              "      <td>148.20</td>\n",
              "      <td>9.474147</td>\n",
              "    </tr>\n",
              "    <tr>\n",
              "      <th>1978</th>\n",
              "      <td>187.40</td>\n",
              "      <td>19.167896</td>\n",
              "    </tr>\n",
              "    <tr>\n",
              "      <th>1979</th>\n",
              "      <td>285.40</td>\n",
              "      <td>75.643684</td>\n",
              "    </tr>\n",
              "    <tr>\n",
              "      <th>1980</th>\n",
              "      <td>635.00</td>\n",
              "      <td>67.444732</td>\n",
              "    </tr>\n",
              "    <tr>\n",
              "      <th>1981</th>\n",
              "      <td>464.50</td>\n",
              "      <td>47.113728</td>\n",
              "    </tr>\n",
              "    <tr>\n",
              "      <th>1982</th>\n",
              "      <td>372.00</td>\n",
              "      <td>46.253542</td>\n",
              "    </tr>\n",
              "    <tr>\n",
              "      <th>1983</th>\n",
              "      <td>424.40</td>\n",
              "      <td>33.079966</td>\n",
              "    </tr>\n",
              "    <tr>\n",
              "      <th>1984</th>\n",
              "      <td>366.80</td>\n",
              "      <td>23.232601</td>\n",
              "    </tr>\n",
              "    <tr>\n",
              "      <th>1985</th>\n",
              "      <td>324.00</td>\n",
              "      <td>12.669928</td>\n",
              "    </tr>\n",
              "    <tr>\n",
              "      <th>1986</th>\n",
              "      <td>352.05</td>\n",
              "      <td>32.806745</td>\n",
              "    </tr>\n",
              "    <tr>\n",
              "      <th>1987</th>\n",
              "      <td>459.20</td>\n",
              "      <td>27.580026</td>\n",
              "    </tr>\n",
              "    <tr>\n",
              "      <th>1988</th>\n",
              "      <td>442.35</td>\n",
              "      <td>19.567528</td>\n",
              "    </tr>\n",
              "    <tr>\n",
              "      <th>1989</th>\n",
              "      <td>382.50</td>\n",
              "      <td>15.309143</td>\n",
              "    </tr>\n",
              "    <tr>\n",
              "      <th>1990</th>\n",
              "      <td>384.50</td>\n",
              "      <td>19.623975</td>\n",
              "    </tr>\n",
              "    <tr>\n",
              "      <th>1991</th>\n",
              "      <td>363.50</td>\n",
              "      <td>9.002847</td>\n",
              "    </tr>\n",
              "    <tr>\n",
              "      <th>1992</th>\n",
              "      <td>343.75</td>\n",
              "      <td>7.808053</td>\n",
              "    </tr>\n",
              "    <tr>\n",
              "      <th>1993</th>\n",
              "      <td>368.00</td>\n",
              "      <td>22.476101</td>\n",
              "    </tr>\n",
              "    <tr>\n",
              "      <th>1994</th>\n",
              "      <td>385.80</td>\n",
              "      <td>5.466964</td>\n",
              "    </tr>\n",
              "    <tr>\n",
              "      <th>1995</th>\n",
              "      <td>386.70</td>\n",
              "      <td>4.631135</td>\n",
              "    </tr>\n",
              "    <tr>\n",
              "      <th>1996</th>\n",
              "      <td>391.35</td>\n",
              "      <td>9.774628</td>\n",
              "    </tr>\n",
              "    <tr>\n",
              "      <th>1997</th>\n",
              "      <td>336.00</td>\n",
              "      <td>19.380099</td>\n",
              "    </tr>\n",
              "    <tr>\n",
              "      <th>1998</th>\n",
              "      <td>295.10</td>\n",
              "      <td>6.910876</td>\n",
              "    </tr>\n",
              "    <tr>\n",
              "      <th>1999</th>\n",
              "      <td>284.10</td>\n",
              "      <td>16.924749</td>\n",
              "    </tr>\n",
              "    <tr>\n",
              "      <th>2000</th>\n",
              "      <td>279.60</td>\n",
              "      <td>9.592689</td>\n",
              "    </tr>\n",
              "    <tr>\n",
              "      <th>2001</th>\n",
              "      <td>270.70</td>\n",
              "      <td>8.734818</td>\n",
              "    </tr>\n",
              "    <tr>\n",
              "      <th>2002</th>\n",
              "      <td>313.75</td>\n",
              "      <td>14.661109</td>\n",
              "    </tr>\n",
              "    <tr>\n",
              "      <th>2003</th>\n",
              "      <td>362.70</td>\n",
              "      <td>22.321281</td>\n",
              "    </tr>\n",
              "    <tr>\n",
              "      <th>2004</th>\n",
              "      <td>407.10</td>\n",
              "      <td>18.505179</td>\n",
              "    </tr>\n",
              "    <tr>\n",
              "      <th>2005</th>\n",
              "      <td>437.60</td>\n",
              "      <td>27.711265</td>\n",
              "    </tr>\n",
              "    <tr>\n",
              "      <th>2006</th>\n",
              "      <td>616.00</td>\n",
              "      <td>39.826181</td>\n",
              "    </tr>\n",
              "    <tr>\n",
              "      <th>2007</th>\n",
              "      <td>677.10</td>\n",
              "      <td>59.312575</td>\n",
              "    </tr>\n",
              "    <tr>\n",
              "      <th>2008</th>\n",
              "      <td>886.30</td>\n",
              "      <td>67.829659</td>\n",
              "    </tr>\n",
              "    <tr>\n",
              "      <th>2009</th>\n",
              "      <td>949.00</td>\n",
              "      <td>85.286473</td>\n",
              "    </tr>\n",
              "    <tr>\n",
              "      <th>2010</th>\n",
              "      <td>1214.80</td>\n",
              "      <td>98.899052</td>\n",
              "    </tr>\n",
              "    <tr>\n",
              "      <th>2011</th>\n",
              "      <td>1545.20</td>\n",
              "      <td>148.272642</td>\n",
              "    </tr>\n",
              "    <tr>\n",
              "      <th>2012</th>\n",
              "      <td>1664.35</td>\n",
              "      <td>63.885426</td>\n",
              "    </tr>\n",
              "    <tr>\n",
              "      <th>2013</th>\n",
              "      <td>1370.90</td>\n",
              "      <td>146.840659</td>\n",
              "    </tr>\n",
              "    <tr>\n",
              "      <th>2014</th>\n",
              "      <td>1274.05</td>\n",
              "      <td>50.735568</td>\n",
              "    </tr>\n",
              "    <tr>\n",
              "      <th>2015</th>\n",
              "      <td>1166.15</td>\n",
              "      <td>57.332645</td>\n",
              "    </tr>\n",
              "    <tr>\n",
              "      <th>2016</th>\n",
              "      <td>1258.10</td>\n",
              "      <td>73.475536</td>\n",
              "    </tr>\n",
              "    <tr>\n",
              "      <th>2017</th>\n",
              "      <td>1264.20</td>\n",
              "      <td>35.235944</td>\n",
              "    </tr>\n",
              "    <tr>\n",
              "      <th>2018</th>\n",
              "      <td>1268.40</td>\n",
              "      <td>52.904435</td>\n",
              "    </tr>\n",
              "    <tr>\n",
              "      <th>2019</th>\n",
              "      <td>1412.00</td>\n",
              "      <td>94.796302</td>\n",
              "    </tr>\n",
              "    <tr>\n",
              "      <th>2020</th>\n",
              "      <td>1788.10</td>\n",
              "      <td>141.273217</td>\n",
              "    </tr>\n",
              "    <tr>\n",
              "      <th>2021</th>\n",
              "      <td>1794.30</td>\n",
              "      <td>49.367733</td>\n",
              "    </tr>\n",
              "    <tr>\n",
              "      <th>2022</th>\n",
              "      <td>1843.20</td>\n",
              "      <td>73.783310</td>\n",
              "    </tr>\n",
              "  </tbody>\n",
              "</table>\n",
              "</div>\n",
              "      <button class=\"colab-df-convert\" onclick=\"convertToInteractive('df-e3094098-432e-4004-800d-2100a5b8f325')\"\n",
              "              title=\"Convert this dataframe to an interactive table.\"\n",
              "              style=\"display:none;\">\n",
              "        \n",
              "  <svg xmlns=\"http://www.w3.org/2000/svg\" height=\"24px\"viewBox=\"0 0 24 24\"\n",
              "       width=\"24px\">\n",
              "    <path d=\"M0 0h24v24H0V0z\" fill=\"none\"/>\n",
              "    <path d=\"M18.56 5.44l.94 2.06.94-2.06 2.06-.94-2.06-.94-.94-2.06-.94 2.06-2.06.94zm-11 1L8.5 8.5l.94-2.06 2.06-.94-2.06-.94L8.5 2.5l-.94 2.06-2.06.94zm10 10l.94 2.06.94-2.06 2.06-.94-2.06-.94-.94-2.06-.94 2.06-2.06.94z\"/><path d=\"M17.41 7.96l-1.37-1.37c-.4-.4-.92-.59-1.43-.59-.52 0-1.04.2-1.43.59L10.3 9.45l-7.72 7.72c-.78.78-.78 2.05 0 2.83L4 21.41c.39.39.9.59 1.41.59.51 0 1.02-.2 1.41-.59l7.78-7.78 2.81-2.81c.8-.78.8-2.07 0-2.86zM5.41 20L4 18.59l7.72-7.72 1.47 1.35L5.41 20z\"/>\n",
              "  </svg>\n",
              "      </button>\n",
              "      \n",
              "  <style>\n",
              "    .colab-df-container {\n",
              "      display:flex;\n",
              "      flex-wrap:wrap;\n",
              "      gap: 12px;\n",
              "    }\n",
              "\n",
              "    .colab-df-convert {\n",
              "      background-color: #E8F0FE;\n",
              "      border: none;\n",
              "      border-radius: 50%;\n",
              "      cursor: pointer;\n",
              "      display: none;\n",
              "      fill: #1967D2;\n",
              "      height: 32px;\n",
              "      padding: 0 0 0 0;\n",
              "      width: 32px;\n",
              "    }\n",
              "\n",
              "    .colab-df-convert:hover {\n",
              "      background-color: #E2EBFA;\n",
              "      box-shadow: 0px 1px 2px rgba(60, 64, 67, 0.3), 0px 1px 3px 1px rgba(60, 64, 67, 0.15);\n",
              "      fill: #174EA6;\n",
              "    }\n",
              "\n",
              "    [theme=dark] .colab-df-convert {\n",
              "      background-color: #3B4455;\n",
              "      fill: #D2E3FC;\n",
              "    }\n",
              "\n",
              "    [theme=dark] .colab-df-convert:hover {\n",
              "      background-color: #434B5C;\n",
              "      box-shadow: 0px 1px 3px 1px rgba(0, 0, 0, 0.15);\n",
              "      filter: drop-shadow(0px 1px 2px rgba(0, 0, 0, 0.3));\n",
              "      fill: #FFFFFF;\n",
              "    }\n",
              "  </style>\n",
              "\n",
              "      <script>\n",
              "        const buttonEl =\n",
              "          document.querySelector('#df-e3094098-432e-4004-800d-2100a5b8f325 button.colab-df-convert');\n",
              "        buttonEl.style.display =\n",
              "          google.colab.kernel.accessAllowed ? 'block' : 'none';\n",
              "\n",
              "        async function convertToInteractive(key) {\n",
              "          const element = document.querySelector('#df-e3094098-432e-4004-800d-2100a5b8f325');\n",
              "          const dataTable =\n",
              "            await google.colab.kernel.invokeFunction('convertToInteractive',\n",
              "                                                     [key], {});\n",
              "          if (!dataTable) return;\n",
              "\n",
              "          const docLinkHtml = 'Like what you see? Visit the ' +\n",
              "            '<a target=\"_blank\" href=https://colab.research.google.com/notebooks/data_table.ipynb>data table notebook</a>'\n",
              "            + ' to learn more about interactive tables.';\n",
              "          element.innerHTML = '';\n",
              "          dataTable['output_type'] = 'display_data';\n",
              "          await google.colab.output.renderOutput(dataTable, element);\n",
              "          const docLink = document.createElement('div');\n",
              "          docLink.innerHTML = docLinkHtml;\n",
              "          element.appendChild(docLink);\n",
              "        }\n",
              "      </script>\n",
              "    </div>\n",
              "  </div>\n",
              "  "
            ]
          },
          "metadata": {},
          "execution_count": 87
        }
      ]
    },
    {
      "cell_type": "code",
      "source": [
        "plt.figure(figsize=(10, 6))\n",
        "year_data.drop(2022)[\"median\"].plot()\n",
        "plt.grid()\n",
        "plt.title(\"Median of Gold Price in USD per Troy Ounce 1975 - 2021\")"
      ],
      "metadata": {
        "colab": {
          "base_uri": "https://localhost:8080/",
          "height": 422
        },
        "id": "PZ1fhnjIupav",
        "outputId": "7201e292-76db-4be4-c706-bcdbec59d30b"
      },
      "execution_count": 96,
      "outputs": [
        {
          "output_type": "execute_result",
          "data": {
            "text/plain": [
              "Text(0.5, 1.0, 'Median of Gold Price in USD per Troy Ounce 1975 - 2021')"
            ]
          },
          "metadata": {},
          "execution_count": 96
        },
        {
          "output_type": "display_data",
          "data": {
            "text/plain": [
              "<Figure size 720x432 with 1 Axes>"
            ],
            "image/png": "[encoded data removed]"
          },
          "metadata": {
            "needs_background": "light"
          }
        }
      ]
    },
    {
      "cell_type": "code",
      "source": [
        "X = np.array(year_data.drop(2022).index.values).reshape(-1, 1)\n",
        "y = np.array(year_data.drop(2022)[\"median\"].values)\n",
        "\n",
        "X, y"
      ],
      "metadata": {
        "id": "NZQ3h7QkBpMK"
      },
      "execution_count": null,
      "outputs": []
    },
    {
      "cell_type": "code",
      "source": [
        "from sklearn.ensemble import GradientBoostingRegressor\n",
        "from scipy.stats import t"
      ],
      "metadata": {
        "id": "l9T4vGfhAAew"
      },
      "execution_count": 120,
      "outputs": []
    },
    {
      "cell_type": "code",
      "source": [
        "lower_alpha = 0.1\n",
        "upper_alpha = 0.9\n",
        "model_upper = GradientBoostingRegressor(loss=\"quantile\", alpha=upper_alpha)\n",
        "model_mid = GradientBoostingRegressor()\n",
        "model_lower = GradientBoostingRegressor(loss=\"quantile\", alpha=lower_alpha)"
      ],
      "metadata": {
        "id": "HuG3K2hDASXE"
      },
      "execution_count": 145,
      "outputs": []
    },
    {
      "cell_type": "code",
      "source": [
        "model_upper.fit(X, y)\n",
        "model_mid.fit(X, y)\n",
        "model_lower.fit(X, y)"
      ],
      "metadata": {
        "colab": {
          "base_uri": "https://localhost:8080/"
        },
        "id": "diIhAZ09Bosj",
        "outputId": "5d938423-96ab-474a-ba9e-0018fc429fb5"
      },
      "execution_count": 146,
      "outputs": [
        {
          "output_type": "execute_result",
          "data": {
            "text/plain": [
              "GradientBoostingRegressor(alpha=0.1, loss='quantile')"
            ]
          },
          "metadata": {},
          "execution_count": 146
        }
      ]
    },
    {
      "cell_type": "code",
      "source": [
        "X_2022 = np.append(X, 2022).reshape(-1, 1)\n",
        "X_2022"
      ],
      "metadata": {
        "id": "2_-FMRFTQRh6"
      },
      "execution_count": null,
      "outputs": []
    },
    {
      "cell_type": "code",
      "source": [
        "pred_2022_upper = model_upper.predict(X_2022)\n",
        "pred_2022_mid = model_mid.predict(X_2022)\n",
        "pred_2022_lower = model_lower.predict(X_2022)\n",
        "\n",
        "pred_2022_upper, pred_2022_mid, pred_2022_lower"
      ],
      "metadata": {
        "colab": {
          "base_uri": "https://localhost:8080/"
        },
        "id": "7GhKi6JDCyuI",
        "outputId": "d2e4186b-48cd-4a63-e74e-5258ef4a88c1"
      },
      "execution_count": 148,
      "outputs": [
        {
          "output_type": "execute_result",
          "data": {
            "text/plain": [
              "(array([ 394.63407854,  394.63407854,  394.63407854,  394.63407854,\n",
              "         394.63407854,  634.52589415,  464.52516907,  446.99966419,\n",
              "         446.99966419,  446.99966419,  446.99966419,  446.99966419,\n",
              "         459.32722909,  440.76193995,  415.27466969,  415.27466969,\n",
              "         415.27466969,  415.27466969,  415.27466969,  415.27466969,\n",
              "         415.27466969,  415.27466969,  415.27466969,  415.27466969,\n",
              "         415.27466969,  415.27466969,  415.27466969,  415.27466969,\n",
              "         415.27466969,  415.27466969,  436.01550169,  617.33946095,\n",
              "         678.31018128,  888.20449238,  951.47449238, 1222.21676914,\n",
              "        1554.11399164, 1636.64346962, 1373.11625586, 1373.11625586,\n",
              "        1373.11625586, 1373.11625586, 1373.11625586, 1373.11625586,\n",
              "        1415.45625586, 1788.94234102, 1794.28919057, 1794.28919057]),\n",
              " array([ 165.17562159,  134.98690705,  149.6389141 ,  185.46830943,\n",
              "         286.58306051,  624.16789134,  462.7275337 ,  381.37010911,\n",
              "         412.32513689,  366.19576511,  335.01269729,  354.25267958,\n",
              "         447.18017333,  438.69775419,  383.40549477,  383.40549477,\n",
              "         366.13542351,  358.45188967,  370.38143461,  382.65397381,\n",
              "         382.65397381,  382.65397381,  338.211212  ,  297.42435186,\n",
              "         285.866602  ,  283.70426625,  282.81426625,  313.65337393,\n",
              "         360.66081229,  407.68005645,  438.50395577,  614.46940759,\n",
              "         676.83265176,  883.03271524,  952.34598802, 1214.52430089,\n",
              "        1544.4053305 , 1654.24538509, 1371.28924578, 1271.75028611,\n",
              "        1175.25313573, 1258.7341143 , 1263.72885296, 1267.27363791,\n",
              "        1410.65880823, 1785.55626664, 1791.20676447, 1791.20676447]),\n",
              " array([ 166.219072  ,  128.05393082,  148.11661759,  186.79103184,\n",
              "         285.33405039,  324.62931042,  324.62931042,  324.62931042,\n",
              "         324.62931042,  324.62931042,  324.62931042,  328.38181042,\n",
              "         328.38181042,  328.38181042,  328.38181042,  328.38181042,\n",
              "         328.38181042,  328.38181042,  328.38181042,  328.38181042,\n",
              "         328.38181042,  328.38181042,  328.38181042,  295.32749406,\n",
              "         284.09398049,  279.31615915,  270.12074212,  313.22817012,\n",
              "         361.9291545 ,  406.72915275,  436.9753143 ,  614.36026637,\n",
              "         676.41014369,  886.10814501,  950.43051768, 1192.67282816,\n",
              "        1192.67282816, 1192.67282816, 1192.67282816, 1192.67282816,\n",
              "        1192.67282816, 1192.67282816, 1192.67282816, 1192.67282816,\n",
              "        1192.67282816, 1192.67282816, 1192.67282816, 1192.67282816]))"
            ]
          },
          "metadata": {},
          "execution_count": 148
        }
      ]
    },
    {
      "cell_type": "markdown",
      "source": [
        "### Prediction Interval\n",
        "\\begin{align}\n",
        "  \\hat{y} \\pm t_{(1-\\alpha/2, n-2)} \\sqrt{\\frac{\\sum_{i=1}^{n}{(\\hat{y} - y)^2}}{n-2} ⋅ (1 + \\frac{1}{n} + \\frac{(x - \\bar{x})^2}{\\sum_{i=1}^{n}{(x_i - \\bar{x_i})^2}})}\n",
        "\\end{align}"
      ],
      "metadata": {
        "id": "Jl2zVHv9Hcz1"
      }
    },
    {
      "cell_type": "code",
      "source": [
        "y_pred = model_mid.predict(X)\n",
        "n = len(y)\n",
        "standard_error = np.square(y - y_pred).sum()/(n-2)\n",
        "standard_error"
      ],
      "metadata": {
        "colab": {
          "base_uri": "https://localhost:8080/"
        },
        "id": "evl9EzToDCQ2",
        "outputId": "1f417a81-c4fd-4256-a9bb-71c2a607bf4c"
      },
      "execution_count": 149,
      "outputs": [
        {
          "output_type": "execute_result",
          "data": {
            "text/plain": [
              "32.11360270167149"
            ]
          },
          "metadata": {},
          "execution_count": 149
        }
      ]
    },
    {
      "cell_type": "code",
      "source": [
        "x_mean = X.reshape(-1).mean()\n",
        "sum_squared = np.square(X.reshape(-1) - x_mean).sum()\n",
        "sum_squared"
      ],
      "metadata": {
        "colab": {
          "base_uri": "https://localhost:8080/"
        },
        "id": "eZlaLHTTHAcR",
        "outputId": "e53c6877-5110-4812-e57a-9d2e4ef98878"
      },
      "execution_count": 150,
      "outputs": [
        {
          "output_type": "execute_result",
          "data": {
            "text/plain": [
              "8648.0"
            ]
          },
          "metadata": {},
          "execution_count": 150
        }
      ]
    },
    {
      "cell_type": "code",
      "source": [
        "curr_year = 2022\n",
        "standard_dev = np.sqrt(standard_error * (1 + (1/n) + ((curr_year - x_mean)**2 / sum_squared)))\n",
        "standard_dev"
      ],
      "metadata": {
        "colab": {
          "base_uri": "https://localhost:8080/"
        },
        "id": "hk_XqJ89Ljfh",
        "outputId": "34535fad-e45f-434b-f8e6-9643eeaa6f5a"
      },
      "execution_count": 151,
      "outputs": [
        {
          "output_type": "execute_result",
          "data": {
            "text/plain": [
              "5.91065116579117"
            ]
          },
          "metadata": {},
          "execution_count": 151
        }
      ]
    },
    {
      "cell_type": "code",
      "source": [
        "t_stat = t.ppf(1-0.05/2, n-2)\n",
        "t_stat"
      ],
      "metadata": {
        "colab": {
          "base_uri": "https://localhost:8080/"
        },
        "id": "5SMbDT1jMdn9",
        "outputId": "de2df711-d8cd-4fd5-a84f-752a52e6d461"
      },
      "execution_count": 152,
      "outputs": [
        {
          "output_type": "execute_result",
          "data": {
            "text/plain": [
              "2.0141033848332923"
            ]
          },
          "metadata": {},
          "execution_count": 152
        }
      ]
    },
    {
      "cell_type": "markdown",
      "source": [
        "### putting it all together"
      ],
      "metadata": {
        "id": "V5pBp_gxNmZ-"
      }
    },
    {
      "cell_type": "code",
      "source": [
        "pred_std = t_stat * standard_dev\n",
        "pred_std"
      ],
      "metadata": {
        "colab": {
          "base_uri": "https://localhost:8080/"
        },
        "id": "VY7OR5W_NfEY",
        "outputId": "90f60772-3779-4af5-913c-bcbc4371159d"
      },
      "execution_count": 153,
      "outputs": [
        {
          "output_type": "execute_result",
          "data": {
            "text/plain": [
              "11.90466251958884"
            ]
          },
          "metadata": {},
          "execution_count": 153
        }
      ]
    },
    {
      "cell_type": "code",
      "source": [
        "pred_2022 = model_mid.predict([[2022]])[0]\n",
        "pred_2022"
      ],
      "metadata": {
        "colab": {
          "base_uri": "https://localhost:8080/"
        },
        "id": "c1b5lvdgQnYJ",
        "outputId": "3047a9e3-2e11-4216-e58d-f32e7448d10d"
      },
      "execution_count": 178,
      "outputs": [
        {
          "output_type": "execute_result",
          "data": {
            "text/plain": [
              "1791.206764473478"
            ]
          },
          "metadata": {},
          "execution_count": 178
        }
      ]
    },
    {
      "cell_type": "markdown",
      "source": [
        "2022 gold median forecast\n",
        "\\begin{align}\n",
        " 1791.21 \\pm 12.24\n",
        "\\end{align}"
      ],
      "metadata": {
        "id": "ZIQ-uDX-NzqI"
      }
    },
    {
      "cell_type": "code",
      "source": [
        "concat_data = np.append(year_data.drop(2022)[\"median\"].values, pred_2022_mid.round(2))\n",
        "concat_data"
      ],
      "metadata": {
        "colab": {
          "base_uri": "https://localhost:8080/"
        },
        "id": "Oba59cRqOlPA",
        "outputId": "e8c5600f-8001-4923-eeb6-fa6e1f6fd8d8"
      },
      "execution_count": 132,
      "outputs": [
        {
          "output_type": "execute_result",
          "data": {
            "text/plain": [
              "array([ 166.3 ,  128.05,  148.2 ,  187.4 ,  285.4 ,  635.  ,  464.5 ,\n",
              "        372.  ,  424.4 ,  366.8 ,  324.  ,  352.05,  459.2 ,  442.35,\n",
              "        382.5 ,  384.5 ,  363.5 ,  343.75,  368.  ,  385.8 ,  386.7 ,\n",
              "        391.35,  336.  ,  295.1 ,  284.1 ,  279.6 ,  270.7 ,  313.75,\n",
              "        362.7 ,  407.1 ,  437.6 ,  616.  ,  677.1 ,  886.3 ,  949.  ,\n",
              "       1214.8 , 1545.2 , 1664.35, 1370.9 , 1274.05, 1166.15, 1258.1 ,\n",
              "       1264.2 , 1268.4 , 1412.  , 1788.1 , 1794.3 , 1839.74])"
            ]
          },
          "metadata": {},
          "execution_count": 132
        }
      ]
    },
    {
      "cell_type": "code",
      "source": [
        "from matplotlib.patches import Rectangle"
      ],
      "metadata": {
        "id": "Fgn1Ydf_Pq3M"
      },
      "execution_count": 164,
      "outputs": []
    },
    {
      "cell_type": "code",
      "source": [
        "pred_2022 + pred_std"
      ],
      "metadata": {
        "colab": {
          "base_uri": "https://localhost:8080/"
        },
        "id": "2JMHAB0cTSna",
        "outputId": "6be676e8-c3c8-4718-ed66-f8f3a6789903"
      },
      "execution_count": 181,
      "outputs": [
        {
          "output_type": "execute_result",
          "data": {
            "text/plain": [
              "1803.1114269930667"
            ]
          },
          "metadata": {},
          "execution_count": 181
        }
      ]
    },
    {
      "cell_type": "code",
      "source": [
        "labels = data[\"Tahun\"].unique()\n",
        "fig, axes = joypy.joyplot(\n",
        "    data, \n",
        "    by=\"Tahun\", \n",
        "    column=\"Terakhir\", \n",
        "    colormap=cm.autumn_r,\n",
        "    title=\"Gold Price Distribution in USD per Troy Ounce by Year\",\n",
        "    figsize=(8, 12))\n",
        "\n",
        "for idx, ax in enumerate(axes):\n",
        "  year = idx + 2011\n",
        "  median = data[data[\"Tahun\"] == year][\"Terakhir\"].median()\n",
        "  std = data[data[\"Tahun\"] == year][\"Terakhir\"].std()\n",
        "  \n",
        "  ax.axvline(median, ymin= 0.1, ymax=0.5, linestyle=\"--\", zorder=100)\n",
        "  ax.annotate(f\"{median:.2f} \\u00B1 {std:.2f}\", xy=(median, 0), xytext=(median, 0.0055), zorder=100, fontsize=8)\n",
        "  if year == 2022:\n",
        "    ax.axvline(pred_2022, ymin=0.1, ymax=0.5, zorder=100, color=\"green\", linestyle=\"--\")\n",
        "    ax.add_patch(Rectangle((pred_2022 - pred_std, 0), pred_std * 2, 0.0055, color=\"green\", alpha=0.3, zorder=100))\n",
        "    ax.annotate(f\"Gradient Boosting Regression Prediction,\\nwith alpha=0.05 prediction interval:{pred_2022:.2f} \\u00B1 {pred_std:.2f}\", xy=(pred_2022, 0)\n",
        "    , xytext=(pred_2022-600, 0.003), zorder=100, fontsize=8, color=\"green\")\n",
        "    \n"
      ],
      "metadata": {
        "colab": {
          "base_uri": "https://localhost:8080/",
          "height": 873
        },
        "outputId": "55e665f3-01bf-4c5a-8629-928f8ecce7c1",
        "id": "PT16ddNlTebk"
      },
      "execution_count": 213,
      "outputs": [
        {
          "output_type": "display_data",
          "data": {
            "text/plain": [
              "<Figure size 576x864 with 13 Axes>"
            ],
            "image/png": "[encoded data removed]"
          },
          "metadata": {
            "needs_background": "light"
          }
        }
      ]
    },
    {
      "cell_type": "code",
      "source": [
        "plt.figure(figsize=(10, 6))\n",
        "year_data.drop(2022)[\"median\"].iloc[-5:].plot(linewidth=3, label=\"ground truth\")\n",
        "plt.plot(X_2022[-5:], pred_2022_mid[-5:], linestyle=\"--\", color=\"yellow\", label=\"prediction\")\n",
        "plt.grid()\n",
        "plt.legend()\n",
        "currentAxis = plt.gca()\n",
        "currentAxis.add_patch(Rectangle((2021, pred_2022 - pred_std), 1, pred_std * 2, color=\"green\", alpha=0.3))\n",
        "plt.title(\"Median of Gold Price in USD per Troy Ounce 1975 - 2021\")"
      ],
      "metadata": {
        "colab": {
          "base_uri": "https://localhost:8080/",
          "height": 422
        },
        "outputId": "d23a7cf8-932d-4847-f984-eb7d6c8e41f8",
        "id": "2DKJiRh8ORV7"
      },
      "execution_count": 214,
      "outputs": [
        {
          "output_type": "execute_result",
          "data": {
            "text/plain": [
              "Text(0.5, 1.0, 'Median of Gold Price in USD per Troy Ounce 1975 - 2021')"
            ]
          },
          "metadata": {},
          "execution_count": 214
        },
        {
          "output_type": "display_data",
          "data": {
            "text/plain": [
              "<Figure size 720x432 with 1 Axes>"
            ],
            "image/png": "[encoded data removed]"
          },
          "metadata": {
            "needs_background": "light"
          }
        }
      ]
    },
    {
      "cell_type": "code",
      "source": [
        ""
      ],
      "metadata": {
        "id": "Uky2LXWYNr9V"
      },
      "execution_count": null,
      "outputs": []
    }
  ]
}